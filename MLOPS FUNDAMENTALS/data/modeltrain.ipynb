{
 "cells": [
  {
   "cell_type": "code",
   "execution_count": null,
   "id": "e8d5141c",
   "metadata": {},
   "outputs": [],
   "source": [
    "import pandas as pandas\n",
    "from sk.learn.model_selection import train_test_split"
   ]
  },
  {
   "cell_type": "code",
   "execution_count": null,
   "id": "198dba04",
   "metadata": {},
   "outputs": [],
   "source": [
    "data = pd.read_csv(\"ratings_csv\")\n",
    "print(data.head(10))\n",
    "datahead"
   ]
  },
  {
   "cell_type": "code",
   "execution_count": null,
   "id": "fb3d8eb5",
   "metadata": {},
   "outputs": [],
   "source": [
    "data_label=data"
   ]
  }
 ],
 "metadata": {
  "kernelspec": {
   "display_name": ".venv",
   "language": "python",
   "name": "python3"
  },
  "language_info": {
   "name": "python",
   "version": "3.13.5"
  }
 },
 "nbformat": 4,
 "nbformat_minor": 5
}
